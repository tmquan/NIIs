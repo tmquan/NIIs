{
 "cells": [
  {
   "cell_type": "code",
   "execution_count": 1,
   "metadata": {},
   "outputs": [
    {
     "name": "stdout",
     "output_type": "stream",
     "text": [
      "Cameras.ipynb      DataAndEnvironment.ipynb  nerv.py              \u001b[0m\u001b[01;32msetup.py\u001b[0m*\n",
      "collected_env.txt  data.py                   nerv_transformer.py  VolRen.ipynb\n",
      "\u001b[01;32mcollect_env.py\u001b[0m*    model.py                  \u001b[01;34m__pycache__\u001b[0m/\n",
      "\u001b[01;34mcub-1.16.0\u001b[0m/        nerp.py                   README.md\n",
      "\u001b[01;36mdata\u001b[0m@              nerv_enlarge_cam.py       requirements.txt\n"
     ]
    },
    {
     "name": "stderr",
     "output_type": "stream",
     "text": [
      "/data/qtran/anaconda3/envs/pytorch3d/lib/python3.8/site-packages/tqdm/auto.py:22: TqdmWarning: IProgress not found. Please update jupyter and ipywidgets. See https://ipywidgets.readthedocs.io/en/stable/user_install.html\n",
      "  from .autonotebook import tqdm as notebook_tqdm\n"
     ]
    },
    {
     "name": "stdout",
     "output_type": "stream",
     "text": [
      "1593\n",
      "['data/ChestXRLungSegmentation/Imagenglab/processed/train/images/001.nii.gz']\n",
      "23389\n",
      "['data/ChestXRLungSegmentation/VinDr/v1/processed/train/images/000434271f63a053c4128a0ba6352c7f.png']\n",
      "1593\n",
      "['data/ChestXRLungSegmentation/Imagenglab/processed/train/images/001.nii.gz']\n",
      "5077\n",
      "['data/ChestXRLungSegmentation/VinDr/v1/processed/test/images/002a34c58c5b758217ed1f584ccbcfe9.png']\n",
      "1593\n",
      "['data/ChestXRLungSegmentation/Imagenglab/processed/train/images/001.nii.gz']\n",
      "5077\n",
      "['data/ChestXRLungSegmentation/VinDr/v1/processed/test/images/002a34c58c5b758217ed1f584ccbcfe9.png']\n"
     ]
    }
   ],
   "source": [
    "%ls\n",
    "%run DataAndEnvironment.ipynb"
   ]
  },
  {
   "cell_type": "code",
   "execution_count": 2,
   "metadata": {},
   "outputs": [
    {
     "name": "stderr",
     "output_type": "stream",
     "text": [
      "DataModule property `train_transforms` was deprecated in v1.5 and will be removed in v1.7.\n",
      "DataModule property `train_transforms` was deprecated in v1.5 and will be removed in v1.7.\n"
     ]
    }
   ],
   "source": [
    "device = torch.device('cuda:1' if torch.cuda.is_available() else 'cpu')\n",
    "cameras = RandomCameras(batch_size=hparams.batch_size, random=True).to(device)\n",
    "\n",
    "# render_size describes the size of both sides of the \n",
    "# rendered images in pixels. We set this to the same size\n",
    "# as the target images. I.e. we render at the same\n",
    "# size as the ground truth images.\n",
    "render_size = hparams.shape\n",
    "\n",
    "# Our rendered scene is centered around (0,0,0) \n",
    "# and is enclosed inside a bounding box\n",
    "# whose side is roughly equal to 3.0 (world units).\n",
    "volume_extent_world = 4.0\n",
    "\n",
    "# 1) Instantiate the raysampler.\n",
    "# Here, NDCMultinomialRaysampler generates a rectangular image\n",
    "# grid of rays whose coordinates follow the PyTorch3D\n",
    "# coordinate conventions.\n",
    "# Since we use a volume of size 128^3, we sample n_pts_per_ray=150,\n",
    "# which roughly corresponds to a one ray-point per voxel.\n",
    "# We further set the min_depth=0.1 since there is no surface within\n",
    "# 0.1 units of any camera plane.\n",
    "raysampler = NDCMultinomialRaysampler(\n",
    "    image_width=render_size,\n",
    "    image_height=render_size,\n",
    "    n_pts_per_ray=512,\n",
    "    min_depth=0.001,\n",
    "    max_depth=volume_extent_world,\n",
    ")\n",
    "\n",
    "\n",
    "# 2) Instantiate the raymarcher.\n",
    "# Here, we use the standard EmissionAbsorptionRaymarcher \n",
    "# which marches along each ray in order to render\n",
    "# each ray into a single 3D color vector \n",
    "# and an opacity scalar.\n",
    "raymarcher = EmissionAbsorptionRaymarcher()\n",
    "\n",
    "# Finally, instantiate the volumetric render\n",
    "# with the raysampler and raymarcher objects.\n",
    "renderer = VolumeRenderer(\n",
    "    raysampler=raysampler, \n",
    "    raymarcher=raymarcher,\n",
    ")\n",
    "\n",
    "# Instantiate the volumetric model.\n",
    "# We use a cubical volume with the size of \n",
    "# one side = 128. The size of each voxel of the volume \n",
    "# is set to volume_extent_world / volume_size s.t. the\n",
    "# volume represents the space enclosed in a 3D bounding box\n",
    "# centered at (0, 0, 0) with the size of each side equal to 3.\n",
    "volume_size = hparams.shape\n",
    "volume_model = VolumeModel(\n",
    "    renderer,\n",
    "    volume_size = [volume_size] * 3, \n",
    "    voxel_size = volume_extent_world / volume_size,\n",
    ").to(device)\n",
    "\n",
    "\n",
    "debug_data = first(datamodule.train_dataloader())\n",
    "image3d = debug_data['image3d'].to(device)\n",
    "volumes = Volumes(\n",
    "    features = torch.cat([image3d]*3, dim=1),\n",
    "    densities = torch.ones_like(image3d) / 1000., \n",
    "    voxel_size = volume_extent_world / volume_size,\n",
    ")"
   ]
  },
  {
   "cell_type": "code",
   "execution_count": 3,
   "metadata": {},
   "outputs": [],
   "source": [
    "screens = volume_model(cameras=cameras, volumes=volumes)"
   ]
  },
  {
   "cell_type": "code",
   "execution_count": 4,
   "metadata": {},
   "outputs": [],
   "source": [
    "# print(cameras.get_buffer())"
   ]
  },
  {
   "cell_type": "code",
   "execution_count": 5,
   "metadata": {},
   "outputs": [
    {
     "data": {
      "text/plain": [
       "(-0.5, 255.5, 255.5, -0.5)"
      ]
     },
     "execution_count": 5,
     "metadata": {},
     "output_type": "execute_result"
    },
    {
     "data": {
      "image/png": "[encoded data removed]",
      "text/plain": [
       "<Figure size 432x288 with 1 Axes>"
      ]
     },
     "metadata": {
      "needs_background": "light"
     },
     "output_type": "display_data"
    }
   ],
   "source": [
    "plt.imshow(screens[0,0,:,:].detach().cpu().numpy(), cmap=plt.cm.gray, vmin=0, vmax=1)\n",
    "plt.axis('off')"
   ]
  },
  {
   "cell_type": "code",
   "execution_count": 6,
   "metadata": {},
   "outputs": [
    {
     "data": {
      "text/plain": [
       "{'training': True,\n",
       " '_parameters': OrderedDict(),\n",
       " '_buffers': OrderedDict(),\n",
       " '_non_persistent_buffers_set': set(),\n",
       " '_backward_hooks': OrderedDict(),\n",
       " '_is_full_backward_hook': None,\n",
       " '_forward_hooks': OrderedDict(),\n",
       " '_forward_pre_hooks': OrderedDict(),\n",
       " '_state_dict_hooks': OrderedDict(),\n",
       " '_load_state_dict_pre_hooks': OrderedDict(),\n",
       " '_load_state_dict_post_hooks': OrderedDict(),\n",
       " '_modules': OrderedDict(),\n",
       " 'device': device(type='cuda', index=1),\n",
       " '_N': 4,\n",
       " 'K': None,\n",
       " 'znear': tensor([0.1000, 0.1000, 0.1000, 0.1000], device='cuda:1'),\n",
       " 'zfar': tensor([3.5000, 3.5000, 3.5000, 3.5000], device='cuda:1'),\n",
       " 'aspect_ratio': tensor([1.3395, 1.0637, 1.1623, 1.3358], device='cuda:1'),\n",
       " 'fov': tensor([56.6907, 69.0218, 60.9811, 59.7274], device='cuda:1'),\n",
       " 'R': tensor([[[-0.9993,  0.0027,  0.0372],\n",
       "          [ 0.0000,  0.9974, -0.0720],\n",
       "          [-0.0373, -0.0719, -0.9967]],\n",
       " \n",
       "         [[-0.9993,  0.0027,  0.0372],\n",
       "          [ 0.0000,  0.9974, -0.0720],\n",
       "          [-0.0373, -0.0719, -0.9967]],\n",
       " \n",
       "         [[-0.9993,  0.0027,  0.0372],\n",
       "          [ 0.0000,  0.9974, -0.0720],\n",
       "          [-0.0373, -0.0719, -0.9967]],\n",
       " \n",
       "         [[-0.9993,  0.0027,  0.0372],\n",
       "          [ 0.0000,  0.9974, -0.0720],\n",
       "          [-0.0373, -0.0719, -0.9967]]], device='cuda:1'),\n",
       " 'T': tensor([[-0.0000e+00, 1.4901e-08, 3.0000e+00],\n",
       "         [-0.0000e+00, 1.4901e-08, 3.0000e+00],\n",
       "         [-0.0000e+00, 1.4901e-08, 3.0000e+00],\n",
       "         [-0.0000e+00, 1.4901e-08, 3.0000e+00]], device='cuda:1'),\n",
       " 'degrees': True}"
      ]
     },
     "execution_count": 6,
     "metadata": {},
     "output_type": "execute_result"
    }
   ],
   "source": [
    "vars(cameras)"
   ]
  },
  {
   "cell_type": "code",
   "execution_count": 7,
   "metadata": {},
   "outputs": [
    {
     "data": {
      "text/plain": [
       "tensor([[-0.1117,  0.2159,  2.9901],\n",
       "        [-0.1117,  0.2159,  2.9901],\n",
       "        [-0.1117,  0.2159,  2.9901],\n",
       "        [-0.1117,  0.2159,  2.9901]], device='cuda:1')"
      ]
     },
     "execution_count": 7,
     "metadata": {},
     "output_type": "execute_result"
    },
    {
     "ename": "",
     "evalue": "",
     "output_type": "error",
     "traceback": [
      "\u001b[1;31mThe Kernel crashed while executing code in the the current cell or a previous cell. Please review the code in the cell(s) to identify a possible cause of the failure. Click <a href='https://aka.ms/vscodeJupyterKernelCrash'>here</a> for more info. View Jupyter <a href='command:jupyter.viewOutput'>log</a> for further details."
     ]
    }
   ],
   "source": [
    "cameras.get_camera_center()"
   ]
  },
  {
   "cell_type": "code",
   "execution_count": null,
   "metadata": {},
   "outputs": [],
   "source": []
  }
 ],
 "metadata": {
  "kernelspec": {
   "display_name": "Python 3.8.13 ('pytorch3d')",
   "language": "python",
   "name": "python3"
  },
  "language_info": {
   "codemirror_mode": {
    "name": "ipython",
    "version": 3
   },
   "file_extension": ".py",
   "mimetype": "text/x-python",
   "name": "python",
   "nbconvert_exporter": "python",
   "pygments_lexer": "ipython3",
   "version": "3.8.13"
  },
  "orig_nbformat": 4,
  "vscode": {
   "interpreter": {
    "hash": "3f893498b470f27fd1a40153e64189396c8dde5539c6d3cde04ad318cba3db14"
   }
  }
 },
 "nbformat": 4,
 "nbformat_minor": 2
}
